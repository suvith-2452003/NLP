{
  "cells": [
    {
      "cell_type": "markdown",
      "id": "56f21ad6-2345-46a6-9437-8a38f2a606a2",
      "metadata": {
        "id": "56f21ad6-2345-46a6-9437-8a38f2a606a2"
      },
      "source": [
        "### Necessary Imports"
      ]
    },
    {
      "cell_type": "code",
      "source": [
        "from google.colab import drive\n",
        "drive.mount('/content/drive/')"
      ],
      "metadata": {
        "colab": {
          "base_uri": "https://localhost:8080/"
        },
        "id": "g4ulVEb8K_gL",
        "outputId": "1afed320-61e1-40e3-e36b-fab79e9752c2"
      },
      "id": "g4ulVEb8K_gL",
      "execution_count": 1,
      "outputs": [
        {
          "output_type": "stream",
          "name": "stdout",
          "text": [
            "Drive already mounted at /content/drive/; to attempt to forcibly remount, call drive.mount(\"/content/drive/\", force_remount=True).\n"
          ]
        }
      ]
    },
    {
      "cell_type": "code",
      "execution_count": 2,
      "id": "e10c754b-8fd3-49c3-bbad-04802ac2e6e6",
      "metadata": {
        "id": "e10c754b-8fd3-49c3-bbad-04802ac2e6e6"
      },
      "outputs": [],
      "source": [
        "import nltk, re, pprint, string\n",
        "from nltk import word_tokenize, sent_tokenize\n",
        "string.punctuation = string.punctuation +'“'+'”'+'-'+'’'+'‘'+'—'\n",
        "string.punctuation = string.punctuation.replace('.', '')\n",
        "file = open('/content/drive/MyDrive/Suvith/Documents/Data Science/Web Scrapping/dataset.txt', encoding = 'utf8').read()"
      ]
    },
    {
      "cell_type": "code",
      "source": [
        "from google.colab import drive\n",
        "drive.mount('/content/drive')"
      ],
      "metadata": {
        "colab": {
          "base_uri": "https://localhost:8080/"
        },
        "id": "UOpRkk30LctT",
        "outputId": "17b38e9b-fa3e-4d2b-f364-f3bc7cd08ead"
      },
      "id": "UOpRkk30LctT",
      "execution_count": 3,
      "outputs": [
        {
          "output_type": "stream",
          "name": "stdout",
          "text": [
            "Drive already mounted at /content/drive; to attempt to forcibly remount, call drive.mount(\"/content/drive\", force_remount=True).\n"
          ]
        }
      ]
    },
    {
      "cell_type": "markdown",
      "id": "8dc326db-1046-4694-b163-f1d623ce0b52",
      "metadata": {
        "id": "8dc326db-1046-4694-b163-f1d623ce0b52"
      },
      "source": [
        "### Preprocess of the Data"
      ]
    },
    {
      "cell_type": "code",
      "execution_count": 4,
      "id": "b577a120-b179-40e8-9966-ed7abaa508bf",
      "metadata": {
        "id": "b577a120-b179-40e8-9966-ed7abaa508bf"
      },
      "outputs": [],
      "source": [
        "file_nl_removed = \"\"\n",
        "for line in file:\n",
        "  line_nl_removed = line.replace(\"\\n\", \" \")\n",
        "  file_nl_removed += line_nl_removed\n",
        "file_p = \"\".join([char for char in file_nl_removed if char not in string.punctuation])"
      ]
    },
    {
      "cell_type": "markdown",
      "id": "8e7e3178-07ff-4c5a-bafc-b6593d7cb398",
      "metadata": {
        "id": "8e7e3178-07ff-4c5a-bafc-b6593d7cb398"
      },
      "source": [
        "### Statistics of the Data"
      ]
    },
    {
      "cell_type": "code",
      "source": [
        "import nltk\n",
        "nltk.download('punkt')"
      ],
      "metadata": {
        "colab": {
          "base_uri": "https://localhost:8080/"
        },
        "id": "LZqMX4CLMJnO",
        "outputId": "dd410c30-cc7a-4df7-9e0a-217b1012f2b1"
      },
      "id": "LZqMX4CLMJnO",
      "execution_count": 6,
      "outputs": [
        {
          "output_type": "stream",
          "name": "stderr",
          "text": [
            "[nltk_data] Downloading package punkt to /root/nltk_data...\n",
            "[nltk_data]   Unzipping tokenizers/punkt.zip.\n"
          ]
        },
        {
          "output_type": "execute_result",
          "data": {
            "text/plain": [
              "True"
            ]
          },
          "metadata": {},
          "execution_count": 6
        }
      ]
    },
    {
      "cell_type": "code",
      "execution_count": 7,
      "id": "ffd609ca-b0f9-4d2b-90d2-b21d66f5f682",
      "metadata": {
        "colab": {
          "base_uri": "https://localhost:8080/"
        },
        "id": "ffd609ca-b0f9-4d2b-90d2-b21d66f5f682",
        "outputId": "7b9b215d-464c-4511-d469-dec3cda9243e"
      },
      "outputs": [
        {
          "output_type": "stream",
          "name": "stdout",
          "text": [
            "The number of sentences is 981\n",
            "The number of tokens is 27361\n",
            "The average number of tokens per sentence is 28\n",
            "The number of unique tokens are 3039\n"
          ]
        }
      ],
      "source": [
        "sents = nltk.sent_tokenize(file_p)\n",
        "print(\"The number of sentences is\", len(sents))\n",
        "\n",
        "words = nltk.word_tokenize(file_p)\n",
        "print(\"The number of tokens is\", len(words))\n",
        "\n",
        "average_tokens = round(len(words)/len(sents))\n",
        "print(\"The average number of tokens per sentence is\",\n",
        "average_tokens)\n",
        "\n",
        "unique_tokens = set(words)\n",
        "print(\"The number of unique tokens are\", len(unique_tokens))"
      ]
    },
    {
      "cell_type": "markdown",
      "id": "949b3288-62eb-4781-a007-4f66efbe5aed",
      "metadata": {
        "id": "949b3288-62eb-4781-a007-4f66efbe5aed"
      },
      "source": [
        "### Building the N-Gram Model"
      ]
    },
    {
      "cell_type": "code",
      "source": [
        "  import nltk\n",
        "  nltk.download('stopwords')"
      ],
      "metadata": {
        "colab": {
          "base_uri": "https://localhost:8080/"
        },
        "id": "PwoMTtBTMtcG",
        "outputId": "972586c5-4cb3-49de-ceb9-0f2772fc052b"
      },
      "id": "PwoMTtBTMtcG",
      "execution_count": 19,
      "outputs": [
        {
          "output_type": "stream",
          "name": "stderr",
          "text": [
            "[nltk_data] Downloading package stopwords to /root/nltk_data...\n",
            "[nltk_data]   Unzipping corpora/stopwords.zip.\n"
          ]
        },
        {
          "output_type": "execute_result",
          "data": {
            "text/plain": [
              "True"
            ]
          },
          "metadata": {},
          "execution_count": 19
        }
      ]
    },
    {
      "cell_type": "code",
      "execution_count": 20,
      "id": "399a4296-406f-4dad-b423-8071db5a820b",
      "metadata": {
        "id": "399a4296-406f-4dad-b423-8071db5a820b"
      },
      "outputs": [],
      "source": [
        "from nltk.util import ngrams\n",
        "from nltk.corpus import stopwords\n",
        "stop_words = set(stopwords.words('english'))"
      ]
    },
    {
      "cell_type": "code",
      "execution_count": 21,
      "id": "6320c007-2a34-49b0-92cd-86ae664c9807",
      "metadata": {
        "id": "6320c007-2a34-49b0-92cd-86ae664c9807"
      },
      "outputs": [],
      "source": [
        "unigram=[]\n",
        "bigram=[]\n",
        "trigram=[]\n",
        "fourgram=[]\n",
        "tokenized_text = []"
      ]
    },
    {
      "cell_type": "code",
      "execution_count": 22,
      "id": "fad18513-0f9d-4a3c-94f6-640397b9375f",
      "metadata": {
        "colab": {
          "base_uri": "https://localhost:8080/"
        },
        "id": "fad18513-0f9d-4a3c-94f6-640397b9375f",
        "outputId": "665e614a-ad00-44ce-fca0-09694baa90a5"
      },
      "outputs": [
        {
          "output_type": "stream",
          "name": "stdout",
          "text": [
            "Most common n-grams without stopword removal and without add-1 smoothing: \n",
            "\n",
            "Most common bigrams:  [(('said', 'the'), 209), (('said', 'alice'), 115), (('the', 'queen'), 65), (('the', 'king'), 60), (('a', 'little'), 59)]\n",
            "\n",
            "Most common trigrams:  [(('the', 'mock', 'turtle'), 51), (('the', 'march', 'hare'), 30), (('said', 'the', 'king'), 29), (('the', 'white', 'rabbit'), 21), (('said', 'the', 'hatter'), 21)]\n",
            "\n",
            "Most common fourgrams:  [(('said', 'the', 'mock', 'turtle'), 19), (('she', 'said', 'to', 'herself'), 16), (('a', 'minute', 'or', 'two'), 11), (('said', 'the', 'march', 'hare'), 8), (('will', 'you', 'wont', 'you'), 8)]\n"
          ]
        }
      ],
      "source": [
        "for sentence in sents:\n",
        "    sentence = sentence.lower()\n",
        "    sequence = word_tokenize(sentence)\n",
        "    for word in sequence:\n",
        "        if (word =='.'):\n",
        "            sequence.remove(word)\n",
        "        else:\n",
        "            unigram.append(word)\n",
        "    tokenized_text.append(sequence)\n",
        "    bigram.extend(list(ngrams(sequence, 2)))\n",
        "    trigram.extend(list(ngrams(sequence, 3)))\n",
        "    fourgram.extend(list(ngrams(sequence, 4)))\n",
        "\n",
        "#removes ngrams containing only stopwords\n",
        "def removal(x):\n",
        "    y = []\n",
        "    for pair in x:\n",
        "        count = 0\n",
        "        for word in pair:\n",
        "            if word in stop_words:\n",
        "                count = count or 0\n",
        "            else:\n",
        "                count = count or 1\n",
        "        if (count==1):\n",
        "            y.append(pair)\n",
        "    return(y)\n",
        "\n",
        "\n",
        "bigram = removal(bigram)\n",
        "trigram = removal(trigram)\n",
        "fourgram = removal(fourgram)\n",
        "freq_bi = nltk.FreqDist(bigram)\n",
        "freq_tri = nltk.FreqDist(trigram)\n",
        "freq_four = nltk.FreqDist(fourgram)\n",
        "print(\"Most common n-grams without stopword removal and without add-1 smoothing: \\n\")\n",
        "print (\"Most common bigrams: \", freq_bi.most_common(5))\n",
        "print (\"\\nMost common trigrams: \", freq_tri.most_common(5))\n",
        "print (\"\\nMost common fourgrams: \", freq_four.most_common(5))"
      ]
    },
    {
      "cell_type": "markdown",
      "id": "78a9bb2b-e158-4af7-8f85-30ba9274632c",
      "metadata": {
        "id": "78a9bb2b-e158-4af7-8f85-30ba9274632c"
      },
      "source": [
        "### Script for downloading the stopwords using NLTK"
      ]
    },
    {
      "cell_type": "code",
      "execution_count": 23,
      "id": "3ad94e87-881d-40d8-940e-4371072e97d0",
      "metadata": {
        "id": "3ad94e87-881d-40d8-940e-4371072e97d0"
      },
      "outputs": [],
      "source": [
        "from nltk.corpus import stopwords\n",
        "stop_words = set(stopwords.words('english'))"
      ]
    },
    {
      "cell_type": "markdown",
      "id": "6878bc8c-88f6-406e-81e8-4e2c14115e6f",
      "metadata": {
        "id": "6878bc8c-88f6-406e-81e8-4e2c14115e6f"
      },
      "source": [
        "### Print 10 Unigrams and Bigrams after removing stopwords"
      ]
    },
    {
      "cell_type": "code",
      "execution_count": 24,
      "id": "b4cb73ff-2f70-41e3-874f-6d7598f70bd9",
      "metadata": {
        "colab": {
          "base_uri": "https://localhost:8080/"
        },
        "id": "b4cb73ff-2f70-41e3-874f-6d7598f70bd9",
        "outputId": "ddbad5b2-8ee3-4762-c096-baab7413afe7"
      },
      "outputs": [
        {
          "output_type": "stream",
          "name": "stdout",
          "text": [
            "Most common n-grams with stopword removal and without add-1 smoothing: \n",
            "\n",
            "Most common unigrams:  [('said', 462), ('alice', 385), ('little', 128), ('one', 101), ('like', 85), ('know', 85), ('would', 83), ('went', 83), ('could', 77), ('thought', 74)]\n",
            "\n",
            "Most common bigrams:  [(('said', 'alice'), 122), (('mock', 'turtle'), 54), (('march', 'hare'), 31), (('said', 'king'), 29), (('thought', 'alice'), 26), (('white', 'rabbit'), 22), (('said', 'hatter'), 22), (('said', 'mock'), 20), (('said', 'caterpillar'), 18), (('said', 'gryphon'), 18)]\n"
          ]
        }
      ],
      "source": [
        "print(\"Most common n-grams with stopword removal and without add-1 smoothing: \\n\")\n",
        "unigram_sw_removed = [p for p in unigram if p not in stop_words]\n",
        "fdist = nltk.FreqDist(unigram_sw_removed)\n",
        "print(\"Most common unigrams: \", fdist.most_common(10))\n",
        "bigram_sw_removed = []\n",
        "bigram_sw_removed.extend(list(ngrams(unigram_sw_removed, 2)))\n",
        "fdist = nltk.FreqDist(bigram_sw_removed)\n",
        "print(\"\\nMost common bigrams: \", fdist.most_common(10))"
      ]
    },
    {
      "cell_type": "markdown",
      "id": "e5b3f4c8-3011-4959-8f0f-1c65c2ddcaa2",
      "metadata": {
        "id": "e5b3f4c8-3011-4959-8f0f-1c65c2ddcaa2"
      },
      "source": [
        "### Add-1 smoothing"
      ]
    },
    {
      "cell_type": "code",
      "execution_count": 25,
      "id": "bdc7c175-0465-4fe3-94d8-e97b341d8b9c",
      "metadata": {
        "id": "bdc7c175-0465-4fe3-94d8-e97b341d8b9c"
      },
      "outputs": [],
      "source": [
        "ngrams_all = {1:[], 2:[], 3:[], 4:[]}\n",
        "for i in range(4):\n",
        "    for each in tokenized_text:\n",
        "        for j in ngrams(each, i+1):\n",
        "            ngrams_all[i+1].append(j);\n",
        "ngrams_voc = {1:set([]), 2:set([]), 3:set([]), 4:set([])}\n",
        "for i in range(4):\n",
        "    for gram in ngrams_all[i+1]:\n",
        "        if gram not in ngrams_voc[i+1]:\n",
        "            ngrams_voc[i+1].add(gram)\n",
        "total_ngrams = {1:-1, 2:-1, 3:-1, 4:-1}\n",
        "total_voc = {1:-1, 2:-1, 3:-1, 4:-1}\n",
        "for i in range(4):\n",
        "    total_ngrams[i+1] = len(ngrams_all[i+1])\n",
        "    total_voc[i+1] = len(ngrams_voc[i+1])\n",
        "\n",
        "ngrams_prob = {1:[], 2:[], 3:[], 4:[]}\n",
        "for i in range(4):\n",
        "    for ngram in ngrams_voc[i+1]:\n",
        "        tlist = [ngram]\n",
        "        tlist.append(ngrams_all[i+1].count(ngram))\n",
        "        ngrams_prob[i+1].append(tlist)\n",
        "\n",
        "for i in range(4):\n",
        "    for ngram in ngrams_prob[i+1]:\n",
        "        ngram[-1] = (ngram[-1]+1)/(total_ngrams[i+1]+total_voc[i+1])"
      ]
    },
    {
      "cell_type": "markdown",
      "id": "765297a7-7c40-4917-a567-cec2aec09526",
      "metadata": {
        "id": "765297a7-7c40-4917-a567-cec2aec09526"
      },
      "source": [
        "### Prints top 10 unigram, bigram, trigram, fourgram after smoothing"
      ]
    },
    {
      "cell_type": "code",
      "execution_count": 26,
      "id": "6c3f76d6-7181-4c04-a882-9b85354f4b72",
      "metadata": {
        "colab": {
          "base_uri": "https://localhost:8080/"
        },
        "id": "6c3f76d6-7181-4c04-a882-9b85354f4b72",
        "outputId": "862f9809-7e03-4ae2-c6ee-cdcc683b9ed4"
      },
      "outputs": [
        {
          "output_type": "stream",
          "name": "stdout",
          "text": [
            "Most common n-grams without stopword removal and with add-1 smoothing: \n",
            "\n",
            "Most common unigrams:  [[('the',), 0.05598462224968249], [('and',), 0.02900490852298081], [('to',), 0.02478289225277177], [('a',), 0.02155631071293722], [('she',), 0.018467030515223287], [('it',), 0.018089451824391582], [('of',), 0.017471595784848797], [('said',), 0.015892630350461675], [('i',), 0.013764459547592077], [('alice',), 0.013249579514639755]]\n",
            "\n",
            "Most common bigrams:  [[('said', 'the'), 0.0053395713087035016], [('of', 'the'), 0.0033308754354293268], [('said', 'alice'), 0.0029494774848076483], [('in', 'a'), 0.002491799944061634], [('and', 'the'), 0.002059548933357065], [('in', 'the'), 0.0020086958732741743], [('it', 'was'), 0.0019069897531083933], [('to', 'the'), 0.0017798571029011671], [('the', 'queen'), 0.0016781509827353861], [('as', 'she'), 0.0015764448625696051]]\n",
            "\n",
            "Most common trigrams:  [[('the', 'mock', 'turtle'), 0.001143837575064341], [('the', 'march', 'hare'), 0.0006819031697498955], [('said', 'the', 'king'), 0.0006599062933063505], [('said', 'the', 'hatter'), 0.00048393128175799036], [('the', 'white', 'rabbit'), 0.00048393128175799036], [('said', 'the', 'mock'), 0.0004399375288709003], [('said', 'to', 'herself'), 0.0004399375288709003], [('said', 'the', 'caterpillar'), 0.0004179406524273553], [('said', 'the', 'gryphon'), 0.0003959437759838103], [('she', 'went', 'on'), 0.0003959437759838103]]\n",
            "\n",
            "Most common fourgrams:  [[('said', 'the', 'mock', 'turtle'), 0.00043521782652217433], [('she', 'said', 'to', 'herself'), 0.0003699351525438482], [('a', 'minute', 'or', 'two'), 0.0002611306959133046], [('will', 'you', 'wont', 'you'), 0.00019584802193497845], [('said', 'the', 'march', 'hare'), 0.00019584802193497845], [('said', 'alice', 'in', 'a'), 0.00017408713060886974], [('in', 'a', 'great', 'hurry'), 0.00015232623928276102], [('as', 'well', 'as', 'she'), 0.00015232623928276102], [('in', 'a', 'tone', 'of'), 0.00015232623928276102], [('the', 'moral', 'of', 'that'), 0.00015232623928276102]]\n"
          ]
        }
      ],
      "source": [
        "print(\"Most common n-grams without stopword removal and with add-1 smoothing: \\n\")\n",
        "for i in range(4):\n",
        "    ngrams_prob[i+1] = sorted(ngrams_prob[i+1], key = lambda x:x[1], reverse = True)\n",
        "\n",
        "print (\"Most common unigrams: \", str(ngrams_prob[1][:10]))\n",
        "print (\"\\nMost common bigrams: \", str(ngrams_prob[2][:10]))\n",
        "print (\"\\nMost common trigrams: \", str(ngrams_prob[3][:10]))\n",
        "print (\"\\nMost common fourgrams: \", str(ngrams_prob[4][:10]))"
      ]
    },
    {
      "cell_type": "markdown",
      "id": "aa31df22-c5bf-4f26-b8f9-3a8282295b8a",
      "metadata": {
        "id": "aa31df22-c5bf-4f26-b8f9-3a8282295b8a"
      },
      "source": [
        "### Next word Prediction"
      ]
    },
    {
      "cell_type": "code",
      "execution_count": 27,
      "id": "7a3ed262-c9f4-4ff9-90e4-4c2eebb20648",
      "metadata": {
        "id": "7a3ed262-c9f4-4ff9-90e4-4c2eebb20648"
      },
      "outputs": [],
      "source": [
        "str1 = 'after that alice said the'\n",
        "str2 = 'alice felt so desperate that she was'"
      ]
    },
    {
      "cell_type": "code",
      "execution_count": 28,
      "id": "d90affe0-f0d2-4136-ad5b-fd32e56bb412",
      "metadata": {
        "colab": {
          "base_uri": "https://localhost:8080/"
        },
        "id": "d90affe0-f0d2-4136-ad5b-fd32e56bb412",
        "outputId": "b14f8577-c70d-4cd2-f4ba-8cce5a6ee57f"
      },
      "outputs": [
        {
          "output_type": "stream",
          "name": "stdout",
          "text": [
            "String 1:  {1: ('the',), 2: ('said', 'the'), 3: ('alice', 'said', 'the')} \n",
            "String 2:  {1: ('was',), 2: ('she', 'was'), 3: ('that', 'she', 'was')}\n"
          ]
        }
      ],
      "source": [
        "token_1 = word_tokenize(str1)\n",
        "token_2 = word_tokenize(str2)\n",
        "ngram_1 = {1:[], 2:[], 3:[]}   #to store the n-grams formed\n",
        "ngram_2 = {1:[], 2:[], 3:[]}\n",
        "for i in range(3):\n",
        "    ngram_1[i+1] = list(ngrams(token_1, i+1))[-1]\n",
        "    ngram_2[i+1] = list(ngrams(token_2, i+1))[-1]\n",
        "print(\"String 1: \", ngram_1,\"\\nString 2: \",ngram_2)"
      ]
    },
    {
      "cell_type": "code",
      "execution_count": 29,
      "id": "2d3bf30d-722f-4508-847b-27d40de9250c",
      "metadata": {
        "id": "2d3bf30d-722f-4508-847b-27d40de9250c"
      },
      "outputs": [],
      "source": [
        "for i in range(4):\n",
        "    ngrams_prob[i+1] = sorted(ngrams_prob[i+1], key = lambda x:x[1], reverse = True)\n",
        "\n",
        "pred_1 = {1:[], 2:[], 3:[]}\n",
        "for i in range(3):\n",
        "    count = 0\n",
        "    for each in ngrams_prob[i+2]:\n",
        "        if each[0][:-1] == ngram_1[i+1]:\n",
        "#to find predictions based on highest probability of n-grams\n",
        "\n",
        "            count +=1\n",
        "            pred_1[i+1].append(each[0][-1])\n",
        "            if count ==5:\n",
        "                break\n",
        "    if count<5:\n",
        "        while(count!=5):\n",
        "            pred_1[i+1].append(\"NOT FOUND\")\n",
        "#if no word prediction is found, replace with NOT FOUND\n",
        "            count +=1\n",
        "for i in range(4):\n",
        "    ngrams_prob[i+1] = sorted(ngrams_prob[i+1], key = lambda x:x[1], reverse = True)\n",
        "\n",
        "pred_2 = {1:[], 2:[], 3:[]}\n",
        "for i in range(3):\n",
        "    count = 0\n",
        "    for each in ngrams_prob[i+2]:\n",
        "        if each[0][:-1] == ngram_2[i+1]:\n",
        "            count +=1\n",
        "            pred_2[i+1].append(each[0][-1])\n",
        "            if count ==5:\n",
        "                break\n",
        "    if count<5:\n",
        "        while(count!=5):\n",
        "            pred_2[i+1].append(\"\\0\")\n",
        "            count +=1"
      ]
    },
    {
      "cell_type": "code",
      "execution_count": 30,
      "id": "511c6c3f-26a2-488f-bcbc-27923e5e0073",
      "metadata": {
        "colab": {
          "base_uri": "https://localhost:8080/"
        },
        "id": "511c6c3f-26a2-488f-bcbc-27923e5e0073",
        "outputId": "9b022fd8-8a8b-4e31-e53c-ff8beeba065d"
      },
      "outputs": [
        {
          "output_type": "stream",
          "name": "stdout",
          "text": [
            "Next word predictions for the strings using the probability models of bigrams, trigrams, and fourgrams\n",
            "\n",
            "String 1 - after that alice said the-\n",
            "\n",
            "Bigram model predictions: ['queen', 'king', 'gryphon', 'mock', 'hatter']\n",
            "Trigram model predictions: ['king', 'hatter', 'mock', 'caterpillar', 'gryphon']\n",
            "Fourgram model predictions: ['NOT FOUND', 'NOT FOUND', 'NOT FOUND', 'NOT FOUND', 'NOT FOUND']\n",
            "\n",
            "String 2 - alice felt so desperate that she was-\n",
            "\n",
            "Bigram model predictions: ['a', 'the', 'not', 'going', 'that']\n",
            "Trigram model predictions: ['now', 'quite', 'a', 'beginning', 'looking']\n",
            "Fourgram model predictions: ['now', 'quite', 'ready', 'walking', 'losing']\n"
          ]
        }
      ],
      "source": [
        "print(\"Next word predictions for the strings using the probability models of bigrams, trigrams, and fourgrams\\n\")\n",
        "print(\"String 1 - after that alice said the-\\n\")\n",
        "print(\"Bigram model predictions: {}\\nTrigram model predictions: {}\\nFourgram model predictions: {}\\n\" .format(pred_1[1], pred_1[2], pred_1[3]))\n",
        "print(\"String 2 - alice felt so desperate that she was-\\n\")\n",
        "print(\"Bigram model predictions: {}\\nTrigram model predictions: {}\\nFourgram model predictions: {}\" .format(pred_2[1], pred_2[2], pred_2[3]))"
      ]
    },
    {
      "cell_type": "code",
      "execution_count": 30,
      "id": "cdcb6fdf-c3cb-4ab5-898b-c2ed6b993c41",
      "metadata": {
        "id": "cdcb6fdf-c3cb-4ab5-898b-c2ed6b993c41"
      },
      "outputs": [],
      "source": []
    }
  ],
  "metadata": {
    "kernelspec": {
      "display_name": "Python 3 (ipykernel)",
      "language": "python",
      "name": "python3"
    },
    "language_info": {
      "codemirror_mode": {
        "name": "ipython",
        "version": 3
      },
      "file_extension": ".py",
      "mimetype": "text/x-python",
      "name": "python",
      "nbconvert_exporter": "python",
      "pygments_lexer": "ipython3",
      "version": "3.11.5"
    },
    "colab": {
      "provenance": []
    }
  },
  "nbformat": 4,
  "nbformat_minor": 5
}